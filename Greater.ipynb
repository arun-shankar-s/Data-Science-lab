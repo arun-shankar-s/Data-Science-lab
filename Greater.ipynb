{
 "cells": [
  {
   "cell_type": "code",
   "execution_count": 1,
   "id": "0d85fd1a-65c6-43de-b7c5-c961d0d6ec0f",
   "metadata": {},
   "outputs": [],
   "source": [
    "import numpy as np"
   ]
  },
  {
   "cell_type": "code",
   "execution_count": 2,
   "id": "a892b26d-85d6-4e51-a691-910fbeea3ac6",
   "metadata": {},
   "outputs": [
    {
     "name": "stdout",
     "output_type": "stream",
     "text": [
      "Greater\n",
      "[False False False False  True]\n",
      "Greater and equal\n",
      "[False False False False  True]\n",
      "Less\n",
      "[ True  True  True  True False]\n",
      "Less and Equal\n",
      "[ True  True  True  True False]\n"
     ]
    }
   ],
   "source": [
    "x1=[1,2,3,4,5]\n",
    "x2=[2,34,5,6,2]\n",
    "print(\"Greater\")\n",
    "print(np.greater(x1,x2))\n",
    "print(\"Greater and equal\")\n",
    "print(np.greater_equal(x1,x2))\n",
    "print(\"Less\")\n",
    "print(np.less(x1,x2))\n",
    "print(\"Less and Equal\")\n",
    "print(np.less_equal(x1,x2))"
   ]
  },
  {
   "cell_type": "code",
   "execution_count": null,
   "id": "8071fcdc-7af6-4d67-9294-7302b3d83d1f",
   "metadata": {},
   "outputs": [],
   "source": []
  }
 ],
 "metadata": {
  "kernelspec": {
   "display_name": "Python 3 (ipykernel)",
   "language": "python",
   "name": "python3"
  },
  "language_info": {
   "codemirror_mode": {
    "name": "ipython",
    "version": 3
   },
   "file_extension": ".py",
   "mimetype": "text/x-python",
   "name": "python",
   "nbconvert_exporter": "python",
   "pygments_lexer": "ipython3",
   "version": "3.8.0"
  }
 },
 "nbformat": 4,
 "nbformat_minor": 5
}
