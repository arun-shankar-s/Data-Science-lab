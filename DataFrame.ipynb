{
 "cells": [
  {
   "cell_type": "code",
   "execution_count": 2,
   "id": "18604ee6-9705-43a5-8316-2aeba6e382f0",
   "metadata": {},
   "outputs": [
    {
     "name": "stdout",
     "output_type": "stream",
     "text": [
      "0     2\n",
      "1     4\n",
      "2     6\n",
      "3     7\n",
      "4     8\n",
      "5    10\n",
      "dtype: int64\n"
     ]
    }
   ],
   "source": [
    "import pandas as pd\n",
    "li=[2,4,6,7,8,10]\n",
    "final=pd.Series(li)\n",
    "print(final)"
   ]
  },
  {
   "cell_type": "code",
   "execution_count": 6,
   "id": "1ca864d0-8f20-46bd-a56b-4ed211fef5e0",
   "metadata": {},
   "outputs": [
    {
     "name": "stdout",
     "output_type": "stream",
     "text": [
      "   EID   NAME  AGE\n",
      "0  100  Karan   22\n",
      "1  101  Vivek   23\n"
     ]
    }
   ],
   "source": [
    "lst=([100,\"Karan\",22],[101,\"Vivek\",23])\n",
    "final=pd.DataFrame(lst,columns=[\"EID\",\"NAME\",\"AGE\"])\n",
    "print(final)"
   ]
  },
  {
   "cell_type": "code",
   "execution_count": 10,
   "id": "4443e3ad-29d6-461e-b8a4-4cf62f6d046c",
   "metadata": {},
   "outputs": [],
   "source": [
    "lst2=([100,\"10000\"],[101,\"20000\"])\n",
    "final2=pd.DataFrame(lst2,columns=[\"EID\",\"SALARY\"])\n",
    "f1=pd.merge(final,final2,how=\"inner\",on=\"EID\")"
   ]
  },
  {
   "cell_type": "code",
   "execution_count": 11,
   "id": "fe7ea25e-fc37-4f38-9bb6-58dacbc931d4",
   "metadata": {},
   "outputs": [
    {
     "name": "stdout",
     "output_type": "stream",
     "text": [
      "   EID   NAME  AGE SALARY\n",
      "0  100  Karan   22  10000\n",
      "1  101  Vivek   23  20000\n"
     ]
    }
   ],
   "source": [
    "print(f1)"
   ]
  },
  {
   "cell_type": "code",
   "execution_count": null,
   "id": "ac759a8e-e686-4edc-881c-49b05e6d4bc9",
   "metadata": {},
   "outputs": [],
   "source": []
  }
 ],
 "metadata": {
  "kernelspec": {
   "display_name": "Python 3 (ipykernel)",
   "language": "python",
   "name": "python3"
  },
  "language_info": {
   "codemirror_mode": {
    "name": "ipython",
    "version": 3
   },
   "file_extension": ".py",
   "mimetype": "text/x-python",
   "name": "python",
   "nbconvert_exporter": "python",
   "pygments_lexer": "ipython3",
   "version": "3.8.0"
  }
 },
 "nbformat": 4,
 "nbformat_minor": 5
}
